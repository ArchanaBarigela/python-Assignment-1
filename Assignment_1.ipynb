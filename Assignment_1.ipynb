{
  "nbformat": 4,
  "nbformat_minor": 0,
  "metadata": {
    "colab": {
      "name": "Assignment 1",
      "provenance": [],
      "authorship_tag": "ABX9TyM6IRCh/OgmgzAu1kcvVRkI",
      "include_colab_link": true
    },
    "kernelspec": {
      "name": "python3",
      "display_name": "Python 3"
    }
  },
  "cells": [
    {
      "cell_type": "markdown",
      "metadata": {
        "id": "view-in-github",
        "colab_type": "text"
      },
      "source": [
        "<a href=\"https://colab.research.google.com/github/ArchanaBarigela/python-Assignment-1/blob/master/Assignment_1.ipynb\" target=\"_parent\"><img src=\"https://colab.research.google.com/assets/colab-badge.svg\" alt=\"Open In Colab\"/></a>"
      ]
    },
    {
      "cell_type": "code",
      "metadata": {
        "id": "mWKNGYSgdF5m",
        "colab_type": "code",
        "colab": {
          "base_uri": "https://localhost:8080/",
          "height": 34
        },
        "outputId": "b8d23b8b-eab0-412a-e666-ff59073a00f2"
      },
      "source": [
        "print(0.1+0.2)"
      ],
      "execution_count": null,
      "outputs": [
        {
          "output_type": "stream",
          "text": [
            "0.30000000000000004\n"
          ],
          "name": "stdout"
        }
      ]
    },
    {
      "cell_type": "code",
      "metadata": {
        "id": "7ol9kU73d7MY",
        "colab_type": "code",
        "colab": {
          "base_uri": "https://localhost:8080/",
          "height": 34
        },
        "outputId": "f050ddb7-7f9e-45d6-b2b5-25ea394a5b36"
      },
      "source": [
        "print(\"1.8\"+\"2\")"
      ],
      "execution_count": null,
      "outputs": [
        {
          "output_type": "stream",
          "text": [
            "1.82\n"
          ],
          "name": "stdout"
        }
      ]
    },
    {
      "cell_type": "code",
      "metadata": {
        "id": "DcrGf8xleCGO",
        "colab_type": "code",
        "colab": {
          "base_uri": "https://localhost:8080/",
          "height": 34
        },
        "outputId": "557862e5-fb77-4d8d-ab2c-f8c042c343e1"
      },
      "source": [
        "print(87>78)"
      ],
      "execution_count": null,
      "outputs": [
        {
          "output_type": "stream",
          "text": [
            "True\n"
          ],
          "name": "stdout"
        }
      ]
    },
    {
      "cell_type": "code",
      "metadata": {
        "id": "6R7riLO3eH0B",
        "colab_type": "code",
        "colab": {
          "base_uri": "https://localhost:8080/",
          "height": 34
        },
        "outputId": "4c77d7de-5b6a-42f0-c4d1-414acddd7f0a"
      },
      "source": [
        "print((0.1+0.2)==0.3)"
      ],
      "execution_count": null,
      "outputs": [
        {
          "output_type": "stream",
          "text": [
            "False\n"
          ],
          "name": "stdout"
        }
      ]
    },
    {
      "cell_type": "code",
      "metadata": {
        "id": "llRnP1jAeQ6j",
        "colab_type": "code",
        "colab": {
          "base_uri": "https://localhost:8080/",
          "height": 34
        },
        "outputId": "e4dccc86-9b31-41df-8ec0-23a4208e6d5a"
      },
      "source": [
        "print(\"predict \" \"output\" ,\".....\")"
      ],
      "execution_count": null,
      "outputs": [
        {
          "output_type": "stream",
          "text": [
            "predict output .....\n"
          ],
          "name": "stdout"
        }
      ]
    },
    {
      "cell_type": "code",
      "metadata": {
        "id": "2lsUKRabelsW",
        "colab_type": "code",
        "colab": {
          "base_uri": "https://localhost:8080/",
          "height": 51
        },
        "outputId": "1524a93a-e0a4-45b6-de44-6b1ffb537570"
      },
      "source": [
        "print(\"Prints\",\"multiple  \",\"messages\\n\")"
      ],
      "execution_count": null,
      "outputs": [
        {
          "output_type": "stream",
          "text": [
            "Prints multiple   messages\n",
            "\n"
          ],
          "name": "stdout"
        }
      ]
    },
    {
      "cell_type": "code",
      "metadata": {
        "id": "U3oskBG0wzl-",
        "colab_type": "code",
        "colab": {
          "base_uri": "https://localhost:8080/",
          "height": 51
        },
        "outputId": "7789046d-9f13-4074-bbc9-56468263f0e8"
      },
      "source": [
        "print(\"Concatenate \"+\" two strings\\n\")"
      ],
      "execution_count": null,
      "outputs": [
        {
          "output_type": "stream",
          "text": [
            "Concatenate  two strings\n",
            "\n"
          ],
          "name": "stdout"
        }
      ]
    },
    {
      "cell_type": "code",
      "metadata": {
        "id": "LGJC511Kw9D7",
        "colab_type": "code",
        "colab": {
          "base_uri": "https://localhost:8080/",
          "height": 51
        },
        "outputId": "293f4f6b-f556-4035-e5e1-99ac263e6025"
      },
      "source": [
        "print(\"5+6\"+\" adds two numbers\\n\")"
      ],
      "execution_count": null,
      "outputs": [
        {
          "output_type": "stream",
          "text": [
            "5+6 adds two numbers\n",
            "\n"
          ],
          "name": "stdout"
        }
      ]
    },
    {
      "cell_type": "code",
      "metadata": {
        "id": "PPHoADcfxv4k",
        "colab_type": "code",
        "colab": {
          "base_uri": "https://localhost:8080/",
          "height": 34
        },
        "outputId": "a4a5053e-229c-4a1a-dab6-9d909438b417"
      },
      "source": [
        "print(\"ba\"+\"na\"*2)"
      ],
      "execution_count": null,
      "outputs": [
        {
          "output_type": "stream",
          "text": [
            "banana\n"
          ],
          "name": "stdout"
        }
      ]
    },
    {
      "cell_type": "code",
      "metadata": {
        "id": "bSaK41YVyloX",
        "colab_type": "code",
        "colab": {
          "base_uri": "https://localhost:8080/",
          "height": 34
        },
        "outputId": "038c72f5-99be-4518-fb0f-2eea359268fe"
      },
      "source": [
        " print(r\"c:\\naresh\\raju\\abhi\")"
      ],
      "execution_count": null,
      "outputs": [
        {
          "output_type": "stream",
          "text": [
            "c:\\naresh\\raju\\abhi\n"
          ],
          "name": "stdout"
        }
      ]
    },
    {
      "cell_type": "code",
      "metadata": {
        "id": "ddt9LFp9zy9J",
        "colab_type": "code",
        "colab": {
          "base_uri": "https://localhost:8080/",
          "height": 34
        },
        "outputId": "ab7c83a7-c289-4617-dc5e-526320397845"
      },
      "source": [
        "'welcome to Python traing program'[-4:-33:-4]"
      ],
      "execution_count": null,
      "outputs": [
        {
          "output_type": "execute_result",
          "data": {
            "text/plain": [
              "'g anytow'"
            ]
          },
          "metadata": {
            "tags": []
          },
          "execution_count": 5
        }
      ]
    },
    {
      "cell_type": "code",
      "metadata": {
        "id": "tndVAnzWXBl2",
        "colab_type": "code",
        "colab": {
          "base_uri": "https://localhost:8080/",
          "height": 34
        },
        "outputId": "930ddb31-025b-4f6e-b3af-b638c6229455"
      },
      "source": [
        "'A series of characters designated as one subject known as a string'[2:18:5]"
      ],
      "execution_count": null,
      "outputs": [
        {
          "output_type": "execute_result",
          "data": {
            "text/plain": [
              "'sscc'"
            ]
          },
          "metadata": {
            "tags": []
          },
          "execution_count": 1
        }
      ]
    },
    {
      "cell_type": "code",
      "metadata": {
        "id": "SZGr36QAY2lv",
        "colab_type": "code",
        "colab": {
          "base_uri": "https://localhost:8080/",
          "height": 34
        },
        "outputId": "68e6162c-8857-41ce-b6c5-0229d12feffb"
      },
      "source": [
        "print('A series of characters designated as one object known as a string'[::-1][4::3])"
      ],
      "execution_count": null,
      "outputs": [
        {
          "output_type": "stream",
          "text": [
            "taawkcbe  tgestrcoeeA\n"
          ],
          "name": "stdout"
        }
      ]
    },
    {
      "cell_type": "code",
      "metadata": {
        "id": "1izLi2fpZecV",
        "colab_type": "code",
        "colab": {
          "base_uri": "https://localhost:8080/",
          "height": 34
        },
        "outputId": "d951e04c-8e29-4c59-ef52-38c584c49ca0"
      },
      "source": [
        "print(\"-----------\")"
      ],
      "execution_count": null,
      "outputs": [
        {
          "output_type": "stream",
          "text": [
            "-----------\n"
          ],
          "name": "stdout"
        }
      ]
    },
    {
      "cell_type": "code",
      "metadata": {
        "id": "WxBeCVLiZn1s",
        "colab_type": "code",
        "colab": {
          "base_uri": "https://localhost:8080/",
          "height": 34
        },
        "outputId": "0ed0a46f-b9d2-4270-c28f-b3f367e0ab6a"
      },
      "source": [
        "print('Welcome to Python traing program'[3:10][::-1])"
      ],
      "execution_count": null,
      "outputs": [
        {
          "output_type": "stream",
          "text": [
            "ot emoc\n"
          ],
          "name": "stdout"
        }
      ]
    },
    {
      "cell_type": "code",
      "metadata": {
        "id": "TrKtlF_LbVah",
        "colab_type": "code",
        "colab": {
          "base_uri": "https://localhost:8080/",
          "height": 51
        },
        "outputId": "1763004a-59ba-4f3b-daa0-34144093ee23"
      },
      "source": [
        "str1=True\n",
        "x = 5 > 3\n",
        "print(str1==x)\n",
        "y = 5 > 8\n",
        "print(str1==y)"
      ],
      "execution_count": null,
      "outputs": [
        {
          "output_type": "stream",
          "text": [
            "True\n",
            "False\n"
          ],
          "name": "stdout"
        }
      ]
    },
    {
      "cell_type": "code",
      "metadata": {
        "id": "xGIQM9YLbpKc",
        "colab_type": "code",
        "colab": {
          "base_uri": "https://localhost:8080/",
          "height": 34
        },
        "outputId": "ff37ecd9-b5f2-4e9c-ee10-ed93c5e13767"
      },
      "source": [
        "num=7\n",
        "Name = \"Michael Jackson\"\n",
        "sear_num = Name.find('el')\n",
        "print(num > sear_num)"
      ],
      "execution_count": null,
      "outputs": [
        {
          "output_type": "stream",
          "text": [
            "True\n"
          ],
          "name": "stdout"
        }
      ]
    },
    {
      "cell_type": "code",
      "metadata": {
        "id": "0XaEtn0ScOK7",
        "colab_type": "code",
        "colab": {
          "base_uri": "https://localhost:8080/",
          "height": 34
        },
        "outputId": "e1017a71-b85a-4cba-f197-c0879e73e664"
      },
      "source": [
        "p_phrase=\"was it a car or a cat I saw\"[::-1]\n",
        "print(p_phrase.upper())"
      ],
      "execution_count": null,
      "outputs": [
        {
          "output_type": "stream",
          "text": [
            "WAS I TAC A RO RAC A TI SAW\n"
          ],
          "name": "stdout"
        }
      ]
    },
    {
      "cell_type": "code",
      "metadata": {
        "id": "VqaeaSUyggGa",
        "colab_type": "code",
        "colab": {
          "base_uri": "https://localhost:8080/",
          "height": 34
        },
        "outputId": "3ff36918-ac3c-47fc-ee47-94150bb32ca4"
      },
      "source": [
        "print('1934567'[1:7:2])"
      ],
      "execution_count": null,
      "outputs": [
        {
          "output_type": "stream",
          "text": [
            "946\n"
          ],
          "name": "stdout"
        }
      ]
    },
    {
      "cell_type": "code",
      "metadata": {
        "id": "TULkfkgC149x",
        "colab_type": "code",
        "colab": {
          "base_uri": "https://localhost:8080/",
          "height": 34
        },
        "outputId": "39d86244-f453-4d83-e22f-5a3306c07f44"
      },
      "source": [
        "fake_phrase = \"Fake news has a knack for spreading like wildfire\"[-33:-8][::-1]\n",
        "print(fake_phrase.upper().split())"
      ],
      "execution_count": null,
      "outputs": [
        {
          "output_type": "stream",
          "text": [
            "['EKIL', 'GNIDAERPS', 'ROF', 'KCANK']\n"
          ],
          "name": "stdout"
        }
      ]
    },
    {
      "cell_type": "code",
      "metadata": {
        "id": "EtRX83bxIyBq",
        "colab_type": "code",
        "colab": {
          "base_uri": "https://localhost:8080/",
          "height": 34
        },
        "outputId": "e89ca236-57e6-4175-8f59-36b1ef0db817"
      },
      "source": [
        "msg2 = \"welcome to sr engineering college\"\n",
        "x = msg2.count('o')\n",
        "y = msg2.count('r')\n",
        "msg2[y**x:(x**y+x+y):][::-1]"
      ],
      "execution_count": null,
      "outputs": [
        {
          "output_type": "execute_result",
          "data": {
            "text/plain": [
              "' rs ot'"
            ]
          },
          "metadata": {
            "tags": []
          },
          "execution_count": 2
        }
      ]
    },
    {
      "cell_type": "code",
      "metadata": {
        "id": "CG1DsMYGj54a",
        "colab_type": "code",
        "colab": {
          "base_uri": "https://localhost:8080/",
          "height": 34
        },
        "outputId": "1fe6b1b7-1f53-4dd7-eb01-1d9c85e2c4de"
      },
      "source": [
        "num1,num2 =\"94\",\"30\"\n",
        "data=\"As per Census 2011,Gender ratio of India is 943 females per 1000 males\"\n",
        "num1+num2[0] in data"
      ],
      "execution_count": null,
      "outputs": [
        {
          "output_type": "execute_result",
          "data": {
            "text/plain": [
              "True"
            ]
          },
          "metadata": {
            "tags": []
          },
          "execution_count": 1
        }
      ]
    },
    {
      "cell_type": "code",
      "metadata": {
        "id": "5orLwq-bkoij",
        "colab_type": "code",
        "colab": {
          "base_uri": "https://localhost:8080/",
          "height": 71
        },
        "outputId": "fc59e9da-ef6d-49ab-8c93-ed592aeb82ba"
      },
      "source": [
        "print(data[:45],print(int(num1)+int(num2)))"
      ],
      "execution_count": null,
      "outputs": [
        {
          "output_type": "stream",
          "text": [
            "124\n",
            "As per Census 2011,Gender ratio of India is 9 None\n"
          ],
          "name": "stdout"
        }
      ]
    },
    {
      "cell_type": "code",
      "metadata": {
        "id": "wpoduOjbliLb",
        "colab_type": "code",
        "colab": {
          "base_uri": "https://localhost:8080/",
          "height": 51
        },
        "outputId": "214ad7d3-6b21-449f-83a7-bb28be5f7f7f"
      },
      "source": [
        "x=2\n",
        "y=2*x\n",
        "print('Z'*x+'O'*y)\n",
        "x=5\n",
        "y=2*x\n",
        "print('Z'*x+'O'*y)"
      ],
      "execution_count": null,
      "outputs": [
        {
          "output_type": "stream",
          "text": [
            "ZZOOOO\n",
            "ZZZZZOOOOOOOOOO\n"
          ],
          "name": "stdout"
        }
      ]
    },
    {
      "cell_type": "code",
      "metadata": {
        "id": "U0T-UnPwk2xa",
        "colab_type": "code",
        "colab": {
          "base_uri": "https://localhost:8080/",
          "height": 68
        },
        "outputId": "11fb45a3-f697-41f0-d9de-7802e9db41f1"
      },
      "source": [
        "x = 3\n",
        "y = 2\n",
        "pow = x**y\n",
        "print(pow)\n",
        "div=int(pow/(x*y))\n",
        "print(div)\n",
        "print(div^(x+y))"
      ],
      "execution_count": null,
      "outputs": [
        {
          "output_type": "stream",
          "text": [
            "9\n",
            "1\n",
            "4\n"
          ],
          "name": "stdout"
        }
      ]
    }
  ]
}